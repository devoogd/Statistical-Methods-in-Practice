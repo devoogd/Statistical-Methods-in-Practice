{
 "cells": [
  {
   "cell_type": "code",
   "execution_count": 1,
   "id": "55bc755e",
   "metadata": {},
   "outputs": [],
   "source": [
    "import pandas as pd\n",
    "import matplotlib.pyplot as plt\n",
    "import seaborn as sns\n",
    "import numpy as np\n"
   ]
  },
  {
   "cell_type": "markdown",
   "id": "16f36368",
   "metadata": {},
   "source": [
    "### What is the true mean?\n",
    "\n",
    "The Deepdown  Mining Company have a long-term contract to supply coal to Bordnahome Power Station. The coal is supplied by train-load. Nine samples are taken by Bornahome from each train, analysed for parameters such as sulfur and ash content and tested for calorific value. w shall only concern with calorific values."
   ]
  },
  {
   "cell_type": "code",
   "execution_count": 9,
   "id": "b909202f",
   "metadata": {},
   "outputs": [],
   "source": [
    "''' The latest train-load to arrive athe power station contains 1100 tonnes of coal\n",
    " and has been samples to give the following calorific values (cal/g):'''\n",
    "\n",
    "samples = np.array([46.0, 54.6, 58.2, 50.4, 42.4, 50.6, 48.2, 52.3, 49.1])\n"
   ]
  },
  {
   "cell_type": "code",
   "execution_count": 10,
   "id": "95109b60",
   "metadata": {},
   "outputs": [
    {
     "data": {
      "image/png": "[encoded data removed]",
      "text/plain": [
       "<Figure size 800x300 with 1 Axes>"
      ]
     },
     "metadata": {},
     "output_type": "display_data"
    }
   ],
   "source": [
    "def plot_swarmplot(samples):\n",
    "    fig, ax = plt.subplots(figsize=(8, 3), dpi=100)\n",
    "    sns.swarmplot(x=samples, orient='h', size=8, ax=ax, dodge=False)  # swarmplot stacks overlapping points\n",
    "    ax.set_xlim(40, 60)\n",
    "    ax.set_xlabel('Calorific value (cal/g)')\n",
    "    ax.set_title('Sample calorific values')\n",
    "    fig.tight_layout()\n",
    "\n",
    "plot_swarmplot(samples)"
   ]
  },
  {
   "cell_type": "code",
   "execution_count": 23,
   "id": "c0e81158",
   "metadata": {},
   "outputs": [
    {
     "name": "stdout",
     "output_type": "stream",
     "text": [
      "the mean is 50.2\n",
      "the median is 50.4\n",
      "the spread is 15.800000000000004\n"
     ]
    }
   ],
   "source": [
    "# Averages:\n",
    "\n",
    "#print(np.sum(samples)/len(samples))\n",
    "print(f\"the mean is {np.mean(samples)}\")  # Mean\n",
    "print(f\"the median is {np.median(samples)}\")  # Median\n",
    "print(f\"the spread is {np.max(samples)-np.min(samples)}\")  # Mode\n"
   ]
  },
  {
   "cell_type": "code",
   "execution_count": 26,
   "id": "eef01821",
   "metadata": {},
   "outputs": [
    {
     "name": "stdout",
     "output_type": "stream",
     "text": [
      "deviation from the mean: [-4.2  4.4  8.   0.2 -7.8  0.4 -2.   2.1 -1.1]\n",
      "squared deviations from the mean: [1.764e+01 1.936e+01 6.400e+01 4.000e-02 6.084e+01 1.600e-01 4.000e+00\n",
      " 4.410e+00 1.210e+00]\n"
     ]
    }
   ],
   "source": [
    "deviations = samples - np.mean(samples)\n",
    "squared_deviations = deviations ** 2\n",
    "\n",
    "print(f\"deviation from the mean: {deviations}\")\n",
    "print(f\"squared deviations from the mean: {squared_deviations.round(2)}\")\n"
   ]
  },
  {
   "cell_type": "code",
   "execution_count": 34,
   "id": "fa45551b",
   "metadata": {},
   "outputs": [
    {
     "name": "stdout",
     "output_type": "stream",
     "text": [
      "The standard deviation is 4.632224087843766\n"
     ]
    }
   ],
   "source": [
    "standard_deviation = np.sqrt(np.sum(squared_deviations)/(len(samples)-1))\n",
    "\n",
    "print(f\"The standard deviation is {np.std(samples, ddof=1)}\")  # Sample standard deviation\n",
    "#print(f\"The standard deviation is {np.sqrt(np.sum(squared_deviations)/(len(samples)-1))}\")  # Sample standard deviation"
   ]
  },
  {
   "cell_type": "code",
   "execution_count": 38,
   "id": "80f2aa07",
   "metadata": {},
   "outputs": [
    {
     "name": "stdout",
     "output_type": "stream",
     "text": [
      "The relative standard deviation is  9.23%\n"
     ]
    }
   ],
   "source": [
    "rsd = standard_deviation/np.mean(samples) * 100\n",
    "print(f\"The relative standard deviation is {rsd: .2f}%\")"
   ]
  },
  {
   "cell_type": "code",
   "execution_count": null,
   "id": "ecf0de0c",
   "metadata": {},
   "outputs": [],
   "source": [
    "# upper and lower confidence limits\n",
    "n = len(samples)\n"
   ]
  }
 ],
 "metadata": {
  "kernelspec": {
   "display_name": ".venv",
   "language": "python",
   "name": "python3"
  },
  "language_info": {
   "codemirror_mode": {
    "name": "ipython",
    "version": 3
   },
   "file_extension": ".py",
   "mimetype": "text/x-python",
   "name": "python",
   "nbconvert_exporter": "python",
   "pygments_lexer": "ipython3",
   "version": "3.14.0rc3"
  }
 },
 "nbformat": 4,
 "nbformat_minor": 5
}
